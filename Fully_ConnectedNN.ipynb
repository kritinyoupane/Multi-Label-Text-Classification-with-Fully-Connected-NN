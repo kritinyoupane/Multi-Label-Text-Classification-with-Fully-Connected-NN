{
  "nbformat": 4,
  "nbformat_minor": 0,
  "metadata": {
    "colab": {
      "name": "Fully_ConnectedNN.ipynb",
      "provenance": [],
      "collapsed_sections": [
        "O9CJ2PguYMVd",
        "iuLE0DDTuKuM",
        "C_2qB6uKt93H",
        "BY6Z3S2ee2S3",
        "fEwhgaDhforV",
        "8Zy9ZwA-ZtjH",
        "tCptwhqrqKH2"
      ],
      "include_colab_link": true
    },
    "kernelspec": {
      "name": "python3",
      "display_name": "Python 3"
    },
    "language_info": {
      "name": "python"
    }
  },
  "cells": [
    {
      "cell_type": "markdown",
      "metadata": {
        "id": "view-in-github",
        "colab_type": "text"
      },
      "source": [
        "<a href=\"https://colab.research.google.com/github/kritinyoupane/Multi-Label-Text-Classification-with-Fully-Connected-NN/blob/main/Fully_ConnectedNN.ipynb\" target=\"_parent\"><img src=\"https://colab.research.google.com/assets/colab-badge.svg\" alt=\"Open In Colab\"/></a>"
      ]
    },
    {
      "cell_type": "markdown",
      "source": [
        "# Importing necessary libraries"
      ],
      "metadata": {
        "id": "aFxgL8PtX5Zu"
      }
    },
    {
      "cell_type": "code",
      "execution_count": null,
      "metadata": {
        "id": "2go-SUvJX0Ib"
      },
      "outputs": [],
      "source": [
        "import re\n",
        "import pandas as pd\n",
        "import numpy as np\n",
        "import tensorflow as tf\n",
        "from sklearn.feature_extraction.text import TfidfVectorizer\n",
        "from sklearn.preprocessing import LabelEncoder\n",
        "from sklearn.model_selection import cross_val_score\n",
        "from sklearn.svm import LinearSVC\n",
        "from sklearn.metrics import f1_score\n",
        "import matplotlib.pyplot as plt\n",
        "import spacy\n",
        "from nltk.stem import PorterStemmer\n",
        "nlp = spacy.load('en_core_web_sm')"
      ]
    },
    {
      "cell_type": "markdown",
      "source": [
        "# Mounting Drive in Colab"
      ],
      "metadata": {
        "id": "O9CJ2PguYMVd"
      }
    },
    {
      "cell_type": "code",
      "source": [
        "from google.colab import drive\n",
        "drive.mount('/content/gdrive')"
      ],
      "metadata": {
        "colab": {
          "base_uri": "https://localhost:8080/"
        },
        "id": "cTrWrjV5YLec",
        "outputId": "6f99c5c3-682f-45cb-d29a-95481030dfea"
      },
      "execution_count": null,
      "outputs": [
        {
          "output_type": "stream",
          "name": "stdout",
          "text": [
            "Mounted at /content/gdrive\n"
          ]
        }
      ]
    },
    {
      "cell_type": "markdown",
      "source": [
        "#Data Preprocessing"
      ],
      "metadata": {
        "id": "CzIdzlHVY8zQ"
      }
    },
    {
      "cell_type": "markdown",
      "source": [
        "#####Importing unclean dataset from drive"
      ],
      "metadata": {
        "id": "iuLE0DDTuKuM"
      }
    },
    {
      "cell_type": "code",
      "source": [
        "# Reading the training and validation dataset\n",
        "df_train = pd.read_csv('/content/gdrive/MyDrive/datarush/train.csv')\n",
        "df_valid = pd.read_csv('/content/gdrive/MyDrive/datarush/validation.csv')"
      ],
      "metadata": {
        "id": "dnsSFpdkYRz4"
      },
      "execution_count": null,
      "outputs": []
    },
    {
      "cell_type": "code",
      "source": [
        "df_train"
      ],
      "metadata": {
        "colab": {
          "base_uri": "https://localhost:8080/",
          "height": 502
        },
        "id": "3DtlAy44Y5qT",
        "outputId": "f7150af6-cc50-4611-ed88-76d9258acf45"
      },
      "execution_count": null,
      "outputs": [
        {
          "output_type": "execute_result",
          "data": {
            "text/html": [
              "\n",
              "  <div id=\"df-463e1ea8-5194-41a9-8d63-14ec5a3b19dc\">\n",
              "    <div class=\"colab-df-container\">\n",
              "      <div>\n",
              "<style scoped>\n",
              "    .dataframe tbody tr th:only-of-type {\n",
              "        vertical-align: middle;\n",
              "    }\n",
              "\n",
              "    .dataframe tbody tr th {\n",
              "        vertical-align: top;\n",
              "    }\n",
              "\n",
              "    .dataframe thead th {\n",
              "        text-align: right;\n",
              "    }\n",
              "</style>\n",
              "<table border=\"1\" class=\"dataframe\">\n",
              "  <thead>\n",
              "    <tr style=\"text-align: right;\">\n",
              "      <th></th>\n",
              "      <th>id</th>\n",
              "      <th>abstract</th>\n",
              "      <th>category</th>\n",
              "      <th>category_num</th>\n",
              "    </tr>\n",
              "  </thead>\n",
              "  <tbody>\n",
              "    <tr>\n",
              "      <th>0</th>\n",
              "      <td>271675</td>\n",
              "      <td>Bacteria are often exposed to multiple stimu...</td>\n",
              "      <td>q-bio-QM</td>\n",
              "      <td>138</td>\n",
              "    </tr>\n",
              "    <tr>\n",
              "      <th>1</th>\n",
              "      <td>412276</td>\n",
              "      <td>Accurate knowledge of the thermodynamic prop...</td>\n",
              "      <td>hep-ph-</td>\n",
              "      <td>68</td>\n",
              "    </tr>\n",
              "    <tr>\n",
              "      <th>2</th>\n",
              "      <td>256956</td>\n",
              "      <td>The largest X9.3 solar flare in solar cycle ...</td>\n",
              "      <td>astro-ph-SR</td>\n",
              "      <td>7</td>\n",
              "    </tr>\n",
              "    <tr>\n",
              "      <th>3</th>\n",
              "      <td>427612</td>\n",
              "      <td>We say that a random integer variable $X$ is...</td>\n",
              "      <td>math-PR</td>\n",
              "      <td>93</td>\n",
              "    </tr>\n",
              "    <tr>\n",
              "      <th>4</th>\n",
              "      <td>113852</td>\n",
              "      <td>We derive a formula expressing the joint dis...</td>\n",
              "      <td>math-CO</td>\n",
              "      <td>76</td>\n",
              "    </tr>\n",
              "    <tr>\n",
              "      <th>...</th>\n",
              "      <td>...</td>\n",
              "      <td>...</td>\n",
              "      <td>...</td>\n",
              "      <td>...</td>\n",
              "    </tr>\n",
              "    <tr>\n",
              "      <th>390598</th>\n",
              "      <td>479582</td>\n",
              "      <td>Axion-like particles (ALPs) are hypothetical...</td>\n",
              "      <td>hep-ph-</td>\n",
              "      <td>68</td>\n",
              "    </tr>\n",
              "    <tr>\n",
              "      <th>390599</th>\n",
              "      <td>99488</td>\n",
              "      <td>Due to ever increasing usage of wireless dev...</td>\n",
              "      <td>eess-SP</td>\n",
              "      <td>62</td>\n",
              "    </tr>\n",
              "    <tr>\n",
              "      <th>390600</th>\n",
              "      <td>157301</td>\n",
              "      <td>Weight and activation binarization is an eff...</td>\n",
              "      <td>cs-CV</td>\n",
              "      <td>25</td>\n",
              "    </tr>\n",
              "    <tr>\n",
              "      <th>390601</th>\n",
              "      <td>209221</td>\n",
              "      <td>Large-scale unconstrained optimization is a ...</td>\n",
              "      <td>math-OC</td>\n",
              "      <td>92</td>\n",
              "    </tr>\n",
              "    <tr>\n",
              "      <th>390602</th>\n",
              "      <td>482651</td>\n",
              "      <td>In this report, we discuss the dynamics of p...</td>\n",
              "      <td>gr-qc-</td>\n",
              "      <td>65</td>\n",
              "    </tr>\n",
              "  </tbody>\n",
              "</table>\n",
              "<p>390603 rows × 4 columns</p>\n",
              "</div>\n",
              "      <button class=\"colab-df-convert\" onclick=\"convertToInteractive('df-463e1ea8-5194-41a9-8d63-14ec5a3b19dc')\"\n",
              "              title=\"Convert this dataframe to an interactive table.\"\n",
              "              style=\"display:none;\">\n",
              "        \n",
              "  <svg xmlns=\"http://www.w3.org/2000/svg\" height=\"24px\"viewBox=\"0 0 24 24\"\n",
              "       width=\"24px\">\n",
              "    <path d=\"M0 0h24v24H0V0z\" fill=\"none\"/>\n",
              "    <path d=\"M18.56 5.44l.94 2.06.94-2.06 2.06-.94-2.06-.94-.94-2.06-.94 2.06-2.06.94zm-11 1L8.5 8.5l.94-2.06 2.06-.94-2.06-.94L8.5 2.5l-.94 2.06-2.06.94zm10 10l.94 2.06.94-2.06 2.06-.94-2.06-.94-.94-2.06-.94 2.06-2.06.94z\"/><path d=\"M17.41 7.96l-1.37-1.37c-.4-.4-.92-.59-1.43-.59-.52 0-1.04.2-1.43.59L10.3 9.45l-7.72 7.72c-.78.78-.78 2.05 0 2.83L4 21.41c.39.39.9.59 1.41.59.51 0 1.02-.2 1.41-.59l7.78-7.78 2.81-2.81c.8-.78.8-2.07 0-2.86zM5.41 20L4 18.59l7.72-7.72 1.47 1.35L5.41 20z\"/>\n",
              "  </svg>\n",
              "      </button>\n",
              "      \n",
              "  <style>\n",
              "    .colab-df-container {\n",
              "      display:flex;\n",
              "      flex-wrap:wrap;\n",
              "      gap: 12px;\n",
              "    }\n",
              "\n",
              "    .colab-df-convert {\n",
              "      background-color: #E8F0FE;\n",
              "      border: none;\n",
              "      border-radius: 50%;\n",
              "      cursor: pointer;\n",
              "      display: none;\n",
              "      fill: #1967D2;\n",
              "      height: 32px;\n",
              "      padding: 0 0 0 0;\n",
              "      width: 32px;\n",
              "    }\n",
              "\n",
              "    .colab-df-convert:hover {\n",
              "      background-color: #E2EBFA;\n",
              "      box-shadow: 0px 1px 2px rgba(60, 64, 67, 0.3), 0px 1px 3px 1px rgba(60, 64, 67, 0.15);\n",
              "      fill: #174EA6;\n",
              "    }\n",
              "\n",
              "    [theme=dark] .colab-df-convert {\n",
              "      background-color: #3B4455;\n",
              "      fill: #D2E3FC;\n",
              "    }\n",
              "\n",
              "    [theme=dark] .colab-df-convert:hover {\n",
              "      background-color: #434B5C;\n",
              "      box-shadow: 0px 1px 3px 1px rgba(0, 0, 0, 0.15);\n",
              "      filter: drop-shadow(0px 1px 2px rgba(0, 0, 0, 0.3));\n",
              "      fill: #FFFFFF;\n",
              "    }\n",
              "  </style>\n",
              "\n",
              "      <script>\n",
              "        const buttonEl =\n",
              "          document.querySelector('#df-463e1ea8-5194-41a9-8d63-14ec5a3b19dc button.colab-df-convert');\n",
              "        buttonEl.style.display =\n",
              "          google.colab.kernel.accessAllowed ? 'block' : 'none';\n",
              "\n",
              "        async function convertToInteractive(key) {\n",
              "          const element = document.querySelector('#df-463e1ea8-5194-41a9-8d63-14ec5a3b19dc');\n",
              "          const dataTable =\n",
              "            await google.colab.kernel.invokeFunction('convertToInteractive',\n",
              "                                                     [key], {});\n",
              "          if (!dataTable) return;\n",
              "\n",
              "          const docLinkHtml = 'Like what you see? Visit the ' +\n",
              "            '<a target=\"_blank\" href=https://colab.research.google.com/notebooks/data_table.ipynb>data table notebook</a>'\n",
              "            + ' to learn more about interactive tables.';\n",
              "          element.innerHTML = '';\n",
              "          dataTable['output_type'] = 'display_data';\n",
              "          await google.colab.output.renderOutput(dataTable, element);\n",
              "          const docLink = document.createElement('div');\n",
              "          docLink.innerHTML = docLinkHtml;\n",
              "          element.appendChild(docLink);\n",
              "        }\n",
              "      </script>\n",
              "    </div>\n",
              "  </div>\n",
              "  "
            ],
            "text/plain": [
              "            id  ... category_num\n",
              "0       271675  ...          138\n",
              "1       412276  ...           68\n",
              "2       256956  ...            7\n",
              "3       427612  ...           93\n",
              "4       113852  ...           76\n",
              "...        ...  ...          ...\n",
              "390598  479582  ...           68\n",
              "390599   99488  ...           62\n",
              "390600  157301  ...           25\n",
              "390601  209221  ...           92\n",
              "390602  482651  ...           65\n",
              "\n",
              "[390603 rows x 4 columns]"
            ]
          },
          "metadata": {},
          "execution_count": 85
        }
      ]
    },
    {
      "cell_type": "code",
      "source": [
        "df_train.isna().sum()"
      ],
      "metadata": {
        "colab": {
          "base_uri": "https://localhost:8080/"
        },
        "id": "PwNhzziUZDr2",
        "outputId": "b446b204-aa06-4883-e9ec-35f51fdd7a63"
      },
      "execution_count": null,
      "outputs": [
        {
          "output_type": "execute_result",
          "data": {
            "text/plain": [
              "id              0\n",
              "abstract        0\n",
              "category        0\n",
              "category_num    0\n",
              "dtype: int64"
            ]
          },
          "metadata": {},
          "execution_count": 86
        }
      ]
    },
    {
      "cell_type": "markdown",
      "source": [
        "#####Cleaning the dataset"
      ],
      "metadata": {
        "id": "C_2qB6uKt93H"
      }
    },
    {
      "cell_type": "code",
      "source": [
        "ps = PorterStemmer()"
      ],
      "metadata": {
        "id": "wyeAomi0azst"
      },
      "execution_count": null,
      "outputs": []
    },
    {
      "cell_type": "code",
      "source": [
        "def clean_abstract(text):\n",
        "  text = re.sub('[^a-z\\s]', ' ', text.lower())\n",
        "  text = [i.lower() for i in text.split() if i not in nlp.Defaults.stop_words]\n",
        "  text = [ps.stem(i) for i in text]\n",
        "  text = ' '.join(text)\n",
        "  text.replace('\\n',' ')\n",
        "  return text"
      ],
      "metadata": {
        "id": "QdKIe-Uwa1w-"
      },
      "execution_count": null,
      "outputs": []
    },
    {
      "cell_type": "code",
      "source": [
        "df_train['abstract'] = df_train['abstract'].apply(clean_abstract)\n",
        "df_valid['abstract'] = df_valid['abstract'].apply(clean_abstract)"
      ],
      "metadata": {
        "id": "b930JWQRa40R"
      },
      "execution_count": null,
      "outputs": []
    },
    {
      "cell_type": "markdown",
      "source": [
        "#####Saving clean file in drive"
      ],
      "metadata": {
        "id": "BY6Z3S2ee2S3"
      }
    },
    {
      "cell_type": "code",
      "source": [
        "df_train.to_csv(\"clean_train.csv\")\n",
        "df_valid.to_csv(\"clean_valid.csv\")"
      ],
      "metadata": {
        "id": "DInm2ebyeAvj"
      },
      "execution_count": null,
      "outputs": []
    },
    {
      "cell_type": "code",
      "source": [
        "!cp clean_train.csv \"/content/gdrive/MyDrive/Amalgam/\"\n",
        "!cp clean_valid.csv \"/content/gdrive/MyDrive/Amalgam/\""
      ],
      "metadata": {
        "id": "xmx7Q31GeULa"
      },
      "execution_count": null,
      "outputs": []
    },
    {
      "cell_type": "markdown",
      "source": [
        "#####Importing clean datasets and checking if there is null values"
      ],
      "metadata": {
        "id": "fEwhgaDhforV"
      }
    },
    {
      "cell_type": "code",
      "source": [
        "df_clean_train = pd.read_csv('/content/gdrive/MyDrive/Amalgam/clean_train.csv')\n",
        "df_clean_valid = pd.read_csv('/content/gdrive/MyDrive/Amalgam/clean_valid.csv')"
      ],
      "metadata": {
        "id": "PBuXLus4fuW1"
      },
      "execution_count": null,
      "outputs": []
    },
    {
      "cell_type": "code",
      "source": [
        "#checking for null values\n",
        "df_clean_train.isna().sum()"
      ],
      "metadata": {
        "colab": {
          "base_uri": "https://localhost:8080/"
        },
        "id": "heQmgeMigAa2",
        "outputId": "dc0eeb0b-c685-4f5d-8fac-d8a311b0e47e"
      },
      "execution_count": null,
      "outputs": [
        {
          "output_type": "execute_result",
          "data": {
            "text/plain": [
              "Unnamed: 0      0\n",
              "id              0\n",
              "abstract        1\n",
              "category        0\n",
              "category_num    0\n",
              "dtype: int64"
            ]
          },
          "metadata": {},
          "execution_count": 69
        }
      ]
    },
    {
      "cell_type": "markdown",
      "source": [
        "There is one null values after preprocessing"
      ],
      "metadata": {
        "id": "ufaFI887SYNU"
      }
    },
    {
      "cell_type": "code",
      "source": [
        "df_clean_train.head()"
      ],
      "metadata": {
        "colab": {
          "base_uri": "https://localhost:8080/",
          "height": 206
        },
        "id": "JlohthxqgYmP",
        "outputId": "1994c583-b3c2-4733-c1d0-b720ba803c37"
      },
      "execution_count": null,
      "outputs": [
        {
          "output_type": "execute_result",
          "data": {
            "text/html": [
              "\n",
              "  <div id=\"df-d235ca05-7dff-4637-aca8-3a01ae7c0199\">\n",
              "    <div class=\"colab-df-container\">\n",
              "      <div>\n",
              "<style scoped>\n",
              "    .dataframe tbody tr th:only-of-type {\n",
              "        vertical-align: middle;\n",
              "    }\n",
              "\n",
              "    .dataframe tbody tr th {\n",
              "        vertical-align: top;\n",
              "    }\n",
              "\n",
              "    .dataframe thead th {\n",
              "        text-align: right;\n",
              "    }\n",
              "</style>\n",
              "<table border=\"1\" class=\"dataframe\">\n",
              "  <thead>\n",
              "    <tr style=\"text-align: right;\">\n",
              "      <th></th>\n",
              "      <th>Unnamed: 0</th>\n",
              "      <th>id</th>\n",
              "      <th>abstract</th>\n",
              "      <th>category</th>\n",
              "      <th>category_num</th>\n",
              "    </tr>\n",
              "  </thead>\n",
              "  <tbody>\n",
              "    <tr>\n",
              "      <th>0</th>\n",
              "      <td>0</td>\n",
              "      <td>271675</td>\n",
              "      <td>bacteria expos multipl stimuli complex environ...</td>\n",
              "      <td>q-bio-QM</td>\n",
              "      <td>138</td>\n",
              "    </tr>\n",
              "    <tr>\n",
              "      <th>1</th>\n",
              "      <td>1</td>\n",
              "      <td>412276</td>\n",
              "      <td>accur knowledg thermodynam properti zero tempe...</td>\n",
              "      <td>hep-ph-</td>\n",
              "      <td>68</td>\n",
              "    </tr>\n",
              "    <tr>\n",
              "      <th>2</th>\n",
              "      <td>2</td>\n",
              "      <td>256956</td>\n",
              "      <td>largest x solar flare solar cycl preced x flar...</td>\n",
              "      <td>astro-ph-SR</td>\n",
              "      <td>7</td>\n",
              "    </tr>\n",
              "    <tr>\n",
              "      <th>3</th>\n",
              "      <td>3</td>\n",
              "      <td>427612</td>\n",
              "      <td>random integ variabl x monoton modulu characte...</td>\n",
              "      <td>math-PR</td>\n",
              "      <td>93</td>\n",
              "    </tr>\n",
              "    <tr>\n",
              "      <th>4</th>\n",
              "      <td>4</td>\n",
              "      <td>113852</td>\n",
              "      <td>deriv formula express joint distribut cyclic v...</td>\n",
              "      <td>math-CO</td>\n",
              "      <td>76</td>\n",
              "    </tr>\n",
              "  </tbody>\n",
              "</table>\n",
              "</div>\n",
              "      <button class=\"colab-df-convert\" onclick=\"convertToInteractive('df-d235ca05-7dff-4637-aca8-3a01ae7c0199')\"\n",
              "              title=\"Convert this dataframe to an interactive table.\"\n",
              "              style=\"display:none;\">\n",
              "        \n",
              "  <svg xmlns=\"http://www.w3.org/2000/svg\" height=\"24px\"viewBox=\"0 0 24 24\"\n",
              "       width=\"24px\">\n",
              "    <path d=\"M0 0h24v24H0V0z\" fill=\"none\"/>\n",
              "    <path d=\"M18.56 5.44l.94 2.06.94-2.06 2.06-.94-2.06-.94-.94-2.06-.94 2.06-2.06.94zm-11 1L8.5 8.5l.94-2.06 2.06-.94-2.06-.94L8.5 2.5l-.94 2.06-2.06.94zm10 10l.94 2.06.94-2.06 2.06-.94-2.06-.94-.94-2.06-.94 2.06-2.06.94z\"/><path d=\"M17.41 7.96l-1.37-1.37c-.4-.4-.92-.59-1.43-.59-.52 0-1.04.2-1.43.59L10.3 9.45l-7.72 7.72c-.78.78-.78 2.05 0 2.83L4 21.41c.39.39.9.59 1.41.59.51 0 1.02-.2 1.41-.59l7.78-7.78 2.81-2.81c.8-.78.8-2.07 0-2.86zM5.41 20L4 18.59l7.72-7.72 1.47 1.35L5.41 20z\"/>\n",
              "  </svg>\n",
              "      </button>\n",
              "      \n",
              "  <style>\n",
              "    .colab-df-container {\n",
              "      display:flex;\n",
              "      flex-wrap:wrap;\n",
              "      gap: 12px;\n",
              "    }\n",
              "\n",
              "    .colab-df-convert {\n",
              "      background-color: #E8F0FE;\n",
              "      border: none;\n",
              "      border-radius: 50%;\n",
              "      cursor: pointer;\n",
              "      display: none;\n",
              "      fill: #1967D2;\n",
              "      height: 32px;\n",
              "      padding: 0 0 0 0;\n",
              "      width: 32px;\n",
              "    }\n",
              "\n",
              "    .colab-df-convert:hover {\n",
              "      background-color: #E2EBFA;\n",
              "      box-shadow: 0px 1px 2px rgba(60, 64, 67, 0.3), 0px 1px 3px 1px rgba(60, 64, 67, 0.15);\n",
              "      fill: #174EA6;\n",
              "    }\n",
              "\n",
              "    [theme=dark] .colab-df-convert {\n",
              "      background-color: #3B4455;\n",
              "      fill: #D2E3FC;\n",
              "    }\n",
              "\n",
              "    [theme=dark] .colab-df-convert:hover {\n",
              "      background-color: #434B5C;\n",
              "      box-shadow: 0px 1px 3px 1px rgba(0, 0, 0, 0.15);\n",
              "      filter: drop-shadow(0px 1px 2px rgba(0, 0, 0, 0.3));\n",
              "      fill: #FFFFFF;\n",
              "    }\n",
              "  </style>\n",
              "\n",
              "      <script>\n",
              "        const buttonEl =\n",
              "          document.querySelector('#df-d235ca05-7dff-4637-aca8-3a01ae7c0199 button.colab-df-convert');\n",
              "        buttonEl.style.display =\n",
              "          google.colab.kernel.accessAllowed ? 'block' : 'none';\n",
              "\n",
              "        async function convertToInteractive(key) {\n",
              "          const element = document.querySelector('#df-d235ca05-7dff-4637-aca8-3a01ae7c0199');\n",
              "          const dataTable =\n",
              "            await google.colab.kernel.invokeFunction('convertToInteractive',\n",
              "                                                     [key], {});\n",
              "          if (!dataTable) return;\n",
              "\n",
              "          const docLinkHtml = 'Like what you see? Visit the ' +\n",
              "            '<a target=\"_blank\" href=https://colab.research.google.com/notebooks/data_table.ipynb>data table notebook</a>'\n",
              "            + ' to learn more about interactive tables.';\n",
              "          element.innerHTML = '';\n",
              "          dataTable['output_type'] = 'display_data';\n",
              "          await google.colab.output.renderOutput(dataTable, element);\n",
              "          const docLink = document.createElement('div');\n",
              "          docLink.innerHTML = docLinkHtml;\n",
              "          element.appendChild(docLink);\n",
              "        }\n",
              "      </script>\n",
              "    </div>\n",
              "  </div>\n",
              "  "
            ],
            "text/plain": [
              "   Unnamed: 0      id  ...     category category_num\n",
              "0           0  271675  ...     q-bio-QM          138\n",
              "1           1  412276  ...      hep-ph-           68\n",
              "2           2  256956  ...  astro-ph-SR            7\n",
              "3           3  427612  ...      math-PR           93\n",
              "4           4  113852  ...      math-CO           76\n",
              "\n",
              "[5 rows x 5 columns]"
            ]
          },
          "metadata": {},
          "execution_count": 70
        }
      ]
    },
    {
      "cell_type": "code",
      "source": [
        "is_NaN = df_clean_train.isnull()\n",
        "row_has_NaN = is_NaN.any(axis=1)\n",
        "rows_with_NaN = df_clean_train[row_has_NaN]\n",
        "rows_with_NaN"
      ],
      "metadata": {
        "colab": {
          "base_uri": "https://localhost:8080/",
          "height": 80
        },
        "id": "gI_A8LUtgNk5",
        "outputId": "98f9bae2-720b-403c-a6f4-1e0e03d640de"
      },
      "execution_count": null,
      "outputs": [
        {
          "output_type": "execute_result",
          "data": {
            "text/html": [
              "\n",
              "  <div id=\"df-8b031220-c63b-4bd9-bf8e-f4b9361d7009\">\n",
              "    <div class=\"colab-df-container\">\n",
              "      <div>\n",
              "<style scoped>\n",
              "    .dataframe tbody tr th:only-of-type {\n",
              "        vertical-align: middle;\n",
              "    }\n",
              "\n",
              "    .dataframe tbody tr th {\n",
              "        vertical-align: top;\n",
              "    }\n",
              "\n",
              "    .dataframe thead th {\n",
              "        text-align: right;\n",
              "    }\n",
              "</style>\n",
              "<table border=\"1\" class=\"dataframe\">\n",
              "  <thead>\n",
              "    <tr style=\"text-align: right;\">\n",
              "      <th></th>\n",
              "      <th>Unnamed: 0</th>\n",
              "      <th>id</th>\n",
              "      <th>abstract</th>\n",
              "      <th>category</th>\n",
              "      <th>category_num</th>\n",
              "    </tr>\n",
              "  </thead>\n",
              "  <tbody>\n",
              "    <tr>\n",
              "      <th>112839</th>\n",
              "      <td>112839</td>\n",
              "      <td>59911</td>\n",
              "      <td>NaN</td>\n",
              "      <td>cs-LG</td>\n",
              "      <td>40</td>\n",
              "    </tr>\n",
              "  </tbody>\n",
              "</table>\n",
              "</div>\n",
              "      <button class=\"colab-df-convert\" onclick=\"convertToInteractive('df-8b031220-c63b-4bd9-bf8e-f4b9361d7009')\"\n",
              "              title=\"Convert this dataframe to an interactive table.\"\n",
              "              style=\"display:none;\">\n",
              "        \n",
              "  <svg xmlns=\"http://www.w3.org/2000/svg\" height=\"24px\"viewBox=\"0 0 24 24\"\n",
              "       width=\"24px\">\n",
              "    <path d=\"M0 0h24v24H0V0z\" fill=\"none\"/>\n",
              "    <path d=\"M18.56 5.44l.94 2.06.94-2.06 2.06-.94-2.06-.94-.94-2.06-.94 2.06-2.06.94zm-11 1L8.5 8.5l.94-2.06 2.06-.94-2.06-.94L8.5 2.5l-.94 2.06-2.06.94zm10 10l.94 2.06.94-2.06 2.06-.94-2.06-.94-.94-2.06-.94 2.06-2.06.94z\"/><path d=\"M17.41 7.96l-1.37-1.37c-.4-.4-.92-.59-1.43-.59-.52 0-1.04.2-1.43.59L10.3 9.45l-7.72 7.72c-.78.78-.78 2.05 0 2.83L4 21.41c.39.39.9.59 1.41.59.51 0 1.02-.2 1.41-.59l7.78-7.78 2.81-2.81c.8-.78.8-2.07 0-2.86zM5.41 20L4 18.59l7.72-7.72 1.47 1.35L5.41 20z\"/>\n",
              "  </svg>\n",
              "      </button>\n",
              "      \n",
              "  <style>\n",
              "    .colab-df-container {\n",
              "      display:flex;\n",
              "      flex-wrap:wrap;\n",
              "      gap: 12px;\n",
              "    }\n",
              "\n",
              "    .colab-df-convert {\n",
              "      background-color: #E8F0FE;\n",
              "      border: none;\n",
              "      border-radius: 50%;\n",
              "      cursor: pointer;\n",
              "      display: none;\n",
              "      fill: #1967D2;\n",
              "      height: 32px;\n",
              "      padding: 0 0 0 0;\n",
              "      width: 32px;\n",
              "    }\n",
              "\n",
              "    .colab-df-convert:hover {\n",
              "      background-color: #E2EBFA;\n",
              "      box-shadow: 0px 1px 2px rgba(60, 64, 67, 0.3), 0px 1px 3px 1px rgba(60, 64, 67, 0.15);\n",
              "      fill: #174EA6;\n",
              "    }\n",
              "\n",
              "    [theme=dark] .colab-df-convert {\n",
              "      background-color: #3B4455;\n",
              "      fill: #D2E3FC;\n",
              "    }\n",
              "\n",
              "    [theme=dark] .colab-df-convert:hover {\n",
              "      background-color: #434B5C;\n",
              "      box-shadow: 0px 1px 3px 1px rgba(0, 0, 0, 0.15);\n",
              "      filter: drop-shadow(0px 1px 2px rgba(0, 0, 0, 0.3));\n",
              "      fill: #FFFFFF;\n",
              "    }\n",
              "  </style>\n",
              "\n",
              "      <script>\n",
              "        const buttonEl =\n",
              "          document.querySelector('#df-8b031220-c63b-4bd9-bf8e-f4b9361d7009 button.colab-df-convert');\n",
              "        buttonEl.style.display =\n",
              "          google.colab.kernel.accessAllowed ? 'block' : 'none';\n",
              "\n",
              "        async function convertToInteractive(key) {\n",
              "          const element = document.querySelector('#df-8b031220-c63b-4bd9-bf8e-f4b9361d7009');\n",
              "          const dataTable =\n",
              "            await google.colab.kernel.invokeFunction('convertToInteractive',\n",
              "                                                     [key], {});\n",
              "          if (!dataTable) return;\n",
              "\n",
              "          const docLinkHtml = 'Like what you see? Visit the ' +\n",
              "            '<a target=\"_blank\" href=https://colab.research.google.com/notebooks/data_table.ipynb>data table notebook</a>'\n",
              "            + ' to learn more about interactive tables.';\n",
              "          element.innerHTML = '';\n",
              "          dataTable['output_type'] = 'display_data';\n",
              "          await google.colab.output.renderOutput(dataTable, element);\n",
              "          const docLink = document.createElement('div');\n",
              "          docLink.innerHTML = docLinkHtml;\n",
              "          element.appendChild(docLink);\n",
              "        }\n",
              "      </script>\n",
              "    </div>\n",
              "  </div>\n",
              "  "
            ],
            "text/plain": [
              "        Unnamed: 0     id abstract category  category_num\n",
              "112839      112839  59911      NaN    cs-LG            40"
            ]
          },
          "metadata": {},
          "execution_count": 71
        }
      ]
    },
    {
      "cell_type": "code",
      "source": [
        "#cleaning null value\n",
        "df_clean_train.dropna(inplace=True)"
      ],
      "metadata": {
        "id": "isYMCkfoisx4"
      },
      "execution_count": null,
      "outputs": []
    },
    {
      "cell_type": "code",
      "source": [
        "#checking if still null value is present\n",
        "df_clean_train.isna().sum()"
      ],
      "metadata": {
        "colab": {
          "base_uri": "https://localhost:8080/"
        },
        "id": "yl3733NGi0HF",
        "outputId": "7535a0cd-bbd9-49ac-ea98-e7dc4a29b5bd"
      },
      "execution_count": null,
      "outputs": [
        {
          "output_type": "execute_result",
          "data": {
            "text/plain": [
              "Unnamed: 0      0\n",
              "id              0\n",
              "abstract        0\n",
              "category        0\n",
              "category_num    0\n",
              "dtype: int64"
            ]
          },
          "metadata": {},
          "execution_count": 73
        }
      ]
    },
    {
      "cell_type": "code",
      "source": [
        "df_clean_valid.isna().sum()"
      ],
      "metadata": {
        "colab": {
          "base_uri": "https://localhost:8080/"
        },
        "id": "wUrE8Roxi-Jw",
        "outputId": "310b2293-aebc-46b4-cf11-f5309fba5e84"
      },
      "execution_count": null,
      "outputs": [
        {
          "output_type": "execute_result",
          "data": {
            "text/plain": [
              "Unnamed: 0      0\n",
              "id              0\n",
              "abstract        0\n",
              "category        0\n",
              "category_num    0\n",
              "dtype: int64"
            ]
          },
          "metadata": {},
          "execution_count": 74
        }
      ]
    },
    {
      "cell_type": "markdown",
      "metadata": {
        "id": "QPnjSjdgl4BG"
      },
      "source": [
        "#### Text vectorization"
      ]
    },
    {
      "cell_type": "code",
      "execution_count": null,
      "metadata": {
        "id": "TYwWnDHDfCO0"
      },
      "outputs": [],
      "source": [
        "X_train, y_train = df_clean_train['abstract'],df_clean_train['category']\n",
        "X_valid, y_valid = df_clean_valid['abstract'],df_clean_valid['category']"
      ]
    },
    {
      "cell_type": "code",
      "execution_count": null,
      "metadata": {
        "colab": {
          "base_uri": "https://localhost:8080/"
        },
        "id": "7j-HmTdhLO8Q",
        "outputId": "524c008e-0dc3-4594-f2f8-b2f24e6745ee"
      },
      "outputs": [
        {
          "output_type": "stream",
          "name": "stdout",
          "text": [
            "156\n"
          ]
        }
      ],
      "source": [
        "uniqueValues = y_train.nunique()\n",
        "print(uniqueValues)"
      ]
    },
    {
      "cell_type": "markdown",
      "source": [
        "There are 156 categories in train dataset"
      ],
      "metadata": {
        "id": "Z5NDOj2CTV6M"
      }
    },
    {
      "cell_type": "code",
      "execution_count": null,
      "metadata": {
        "colab": {
          "base_uri": "https://localhost:8080/"
        },
        "id": "l9l6IZ2XL6E4",
        "outputId": "b8b2f987-a43e-4307-af49-f04a826f5515"
      },
      "outputs": [
        {
          "output_type": "stream",
          "name": "stdout",
          "text": [
            "151\n"
          ]
        }
      ],
      "source": [
        "uniqueValues = y_valid.nunique()\n",
        "print(uniqueValues)"
      ]
    },
    {
      "cell_type": "markdown",
      "source": [
        "There are 151 categories in valid dataset"
      ],
      "metadata": {
        "id": "GeQJ_ad4TbV4"
      }
    },
    {
      "cell_type": "markdown",
      "metadata": {
        "id": "2G59575Vmlg1"
      },
      "source": [
        "##### TfIDF"
      ]
    },
    {
      "cell_type": "code",
      "execution_count": null,
      "metadata": {
        "id": "kJO1EuU7fliV"
      },
      "outputs": [],
      "source": [
        "tfidf = TfidfVectorizer(max_features=10000, stop_words='english', ngram_range=(1,1))"
      ]
    },
    {
      "cell_type": "code",
      "execution_count": null,
      "metadata": {
        "id": "TI9ZVLWCXswm"
      },
      "outputs": [],
      "source": [
        "tfidf_vectorizer = tfidf.fit(X_train)\n",
        "tf_len = len(tfidf_vectorizer.vocabulary_)\n",
        "\n",
        "X_train = tfidf_vectorizer.transform(X_train).astype('float32')\n",
        "X_valid = tfidf_vectorizer.transform(X_valid).astype('float32')"
      ]
    },
    {
      "cell_type": "markdown",
      "source": [
        "#####Label Encoding"
      ],
      "metadata": {
        "id": "8Zy9ZwA-ZtjH"
      }
    },
    {
      "cell_type": "code",
      "execution_count": null,
      "metadata": {
        "id": "ACuXGA9vfLuf"
      },
      "outputs": [],
      "source": [
        "label_encoder = LabelEncoder().fit(y_train)\n",
        "\n",
        "y_train = label_encoder.transform(y_train)\n",
        "y_valid = label_encoder.transform(y_valid)\n"
      ]
    },
    {
      "cell_type": "markdown",
      "metadata": {
        "id": "983E1tMuestq"
      },
      "source": [
        "### Classification using under sampling and over sampling"
      ]
    },
    {
      "cell_type": "code",
      "execution_count": null,
      "metadata": {
        "id": "RFCVta2ufAnU"
      },
      "outputs": [],
      "source": [
        "from imblearn.over_sampling import SMOTE\n",
        "from imblearn.under_sampling import RandomUnderSampler\n",
        "from collections import Counter"
      ]
    },
    {
      "cell_type": "code",
      "execution_count": null,
      "metadata": {
        "id": "rSxRSdo_tGew"
      },
      "outputs": [],
      "source": [
        "def sampling_strategy(y,n_samples, t='majority'):\n",
        "    target_classes = ''\n",
        "    if t == 'majority':\n",
        "        target_classes = {k:v for k,v in dict(Counter(y)).items() if v > n_samples}\n",
        "    elif t == 'minority':\n",
        "        # Since SMOTE depends on KNN, filtering out those samples that occur less than 10 times\n",
        "        target_classes = {k:v for k,v in dict(Counter(y)).items() if v < n_samples and v > 10}\n",
        "    sampling_strategy = {k:n_samples for k,v in target_classes.items()}\n",
        "    return sampling_strategy"
      ]
    },
    {
      "cell_type": "code",
      "execution_count": null,
      "metadata": {
        "id": "crH3Vqwp1h_i"
      },
      "outputs": [],
      "source": [
        "over_sampler_ss = sampling_strategy(y_train,1000,t='minority')"
      ]
    },
    {
      "cell_type": "code",
      "source": [
        "under_sampler_ss = sampling_strategy(y_train,8000,t='majority')"
      ],
      "metadata": {
        "id": "vntwYt1iY0tX"
      },
      "execution_count": null,
      "outputs": []
    },
    {
      "cell_type": "code",
      "execution_count": null,
      "metadata": {
        "id": "szuCoHS18L81"
      },
      "outputs": [],
      "source": [
        "over = SMOTE(sampling_strategy=over_sampler_ss,random_state=42)"
      ]
    },
    {
      "cell_type": "code",
      "source": [
        "under = RandomUnderSampler(sampling_strategy=under_sampler_ss, random_state=42)"
      ],
      "metadata": {
        "id": "nt4CWoRCWUp-"
      },
      "execution_count": null,
      "outputs": []
    },
    {
      "cell_type": "code",
      "source": [
        "X_over, y_over = over.fit_resample(X_train, y_train)"
      ],
      "metadata": {
        "id": "txS1kCPmWU1G"
      },
      "execution_count": null,
      "outputs": []
    },
    {
      "cell_type": "code",
      "execution_count": null,
      "metadata": {
        "id": "bbVJriqc8M9l"
      },
      "outputs": [],
      "source": [
        "X_train_under, y_train_under = under.fit_resample(X_over, y_over)"
      ]
    },
    {
      "cell_type": "markdown",
      "source": [
        "###One Hot Encoding"
      ],
      "metadata": {
        "id": "_Xql2lstgJLE"
      }
    },
    {
      "cell_type": "code",
      "execution_count": null,
      "metadata": {
        "id": "jgqw-E00gJLF"
      },
      "outputs": [],
      "source": [
        "from keras.utils import np_utils\n",
        "y_train_enc = np_utils.to_categorical(y_train_under)"
      ]
    },
    {
      "cell_type": "code",
      "execution_count": null,
      "metadata": {
        "id": "Rgio8oCbgJLG"
      },
      "outputs": [],
      "source": [
        "#Encoding validation dataset according to total number of categories in train dataset\n",
        "n_classes = len(y_train_enc[0])\n",
        "y_valid_enc = np_utils.to_categorical(y_valid, num_classes=n_classes)"
      ]
    },
    {
      "cell_type": "code",
      "source": [
        "X_train_under.shape"
      ],
      "metadata": {
        "colab": {
          "base_uri": "https://localhost:8080/"
        },
        "outputId": "3817eea1-c97e-43a8-baa4-e3f075726eb7",
        "id": "5sz_59ubgJLG"
      },
      "execution_count": null,
      "outputs": [
        {
          "output_type": "execute_result",
          "data": {
            "text/plain": [
              "(381961, 10000)"
            ]
          },
          "metadata": {},
          "execution_count": 112
        }
      ]
    },
    {
      "cell_type": "markdown",
      "metadata": {
        "id": "BuuJZdwr1MnD"
      },
      "source": [
        "### Dense Neural Network"
      ]
    },
    {
      "cell_type": "code",
      "execution_count": null,
      "metadata": {
        "id": "dvNfuc-n4HWS"
      },
      "outputs": [],
      "source": [
        "from keras.models import Sequential\n",
        "from keras.layers import Dense, Dropout,BatchNormalization"
      ]
    },
    {
      "cell_type": "code",
      "execution_count": null,
      "metadata": {
        "id": "ZWGmR__C1O-Y"
      },
      "outputs": [],
      "source": [
        "def build_model():\n",
        "    model = Sequential()\n",
        "    model.add(Dense(512, input_dim = X_train_under.shape[1], activation='relu',kernel_initializer= 'glorot_uniform'))\n",
        "    model.add(BatchNormalization())\n",
        "    model.add(Dropout(0.5))\n",
        "    \n",
        "    model.add(Dense(256, activation='relu'))\n",
        "    model.add(BatchNormalization())\n",
        "    model.add(Dropout(0.5))\n",
        "\n",
        "    # model.add(Dense(180, activation='relu'))\n",
        "    # model.add(BatchNormalization())\n",
        "    # model.add(Dropout(0.3))\n",
        "\n",
        "    # model.add(Dense(128, activation='relu'))\n",
        "    # model.add(BatchNormalization())\n",
        "    # model.add(Dropout(0.3))\n",
        "\n",
        "    model.add(Dense(n_classes, activation='softmax'))\n",
        "\n",
        "    optimizer=tf.keras.optimizers.Adam(learning_rate=0.0001)\n",
        "    model.compile(loss='categorical_crossentropy', optimizer=optimizer, metrics=['accuracy'])\n",
        "    model.summary()\n",
        "    return model"
      ]
    },
    {
      "cell_type": "code",
      "source": [
        "model = build_model()"
      ],
      "metadata": {
        "colab": {
          "base_uri": "https://localhost:8080/"
        },
        "id": "N83S4Q8KWL9A",
        "outputId": "bc13c434-efaa-47cb-db95-9ba93e4ca38f"
      },
      "execution_count": null,
      "outputs": [
        {
          "output_type": "stream",
          "name": "stdout",
          "text": [
            "Model: \"sequential_3\"\n",
            "_________________________________________________________________\n",
            " Layer (type)                Output Shape              Param #   \n",
            "=================================================================\n",
            " dense_9 (Dense)             (None, 512)               5120512   \n",
            "                                                                 \n",
            " batch_normalization_3 (Batc  (None, 512)              2048      \n",
            " hNormalization)                                                 \n",
            "                                                                 \n",
            " dropout_6 (Dropout)         (None, 512)               0         \n",
            "                                                                 \n",
            " dense_10 (Dense)            (None, 256)               131328    \n",
            "                                                                 \n",
            " batch_normalization_4 (Batc  (None, 256)              1024      \n",
            " hNormalization)                                                 \n",
            "                                                                 \n",
            " dropout_7 (Dropout)         (None, 256)               0         \n",
            "                                                                 \n",
            " dense_11 (Dense)            (None, 156)               40092     \n",
            "                                                                 \n",
            "=================================================================\n",
            "Total params: 5,295,004\n",
            "Trainable params: 5,293,468\n",
            "Non-trainable params: 1,536\n",
            "_________________________________________________________________\n"
          ]
        }
      ]
    },
    {
      "cell_type": "code",
      "execution_count": null,
      "metadata": {
        "colab": {
          "base_uri": "https://localhost:8080/"
        },
        "id": "LZZNxBqn2_48",
        "outputId": "cb954a34-6645-4aff-84d9-7a9f914c1c56"
      },
      "outputs": [
        {
          "output_type": "stream",
          "name": "stdout",
          "text": [
            "11937/11937 [==============================] - 822s 69ms/step - loss: 0.6883 - accuracy: 0.7861 - val_loss: 1.2662 - val_accuracy: 0.6619\n"
          ]
        }
      ],
      "source": [
        "history = model.fit(X_train_under, y_train_enc, epochs=1, validation_data=(X_valid, y_valid_enc))#epochs 12"
      ]
    },
    {
      "cell_type": "markdown",
      "source": [
        "###Training History Plot"
      ],
      "metadata": {
        "id": "iaZ-rVxUT8WR"
      }
    },
    {
      "cell_type": "code",
      "source": [
        "plt.plot(history.history['accuracy'])\n",
        "plt.plot(history.history['val_accuracy'])\n",
        "plt.title('model accuracy')\n",
        "plt.ylabel('accuracy')\n",
        "plt.xlabel('epoch')\n",
        "plt.legend(['train', 'validation'], loc='upper left')\n",
        "plt.show()"
      ],
      "metadata": {
        "id": "ohQkk4rrXDfc",
        "colab": {
          "base_uri": "https://localhost:8080/",
          "height": 295
        },
        "outputId": "37d20d4a-da23-4e44-fa21-7f061c3cf607"
      },
      "execution_count": null,
      "outputs": [
        {
          "output_type": "display_data",
          "data": {
            "image/png": "[encoded data removed]",
            "text/plain": [
              "<Figure size 432x288 with 1 Axes>"
            ]
          },
          "metadata": {
            "needs_background": "light"
          }
        }
      ]
    },
    {
      "cell_type": "code",
      "source": [
        "plt.plot(history.history['loss'])\n",
        "plt.plot(history.history['val_loss'])\n",
        "plt.title('model loss')\n",
        "plt.ylabel('loss')\n",
        "plt.xlabel('epoch')\n",
        "plt.legend(['train', 'validation'], loc='upper left')\n",
        "plt.show()"
      ],
      "metadata": {
        "colab": {
          "base_uri": "https://localhost:8080/",
          "height": 295
        },
        "id": "mOoyP0UnnRIu",
        "outputId": "5c97807a-ed6e-438c-afb3-ca7e19c0484c"
      },
      "execution_count": null,
      "outputs": [
        {
          "output_type": "display_data",
          "data": {
            "image/png": "[encoded data removed]",
            "text/plain": [
              "<Figure size 432x288 with 1 Axes>"
            ]
          },
          "metadata": {
            "needs_background": "light"
          }
        }
      ]
    },
    {
      "cell_type": "markdown",
      "source": [
        "###Calculating F1 Score in validation dataset"
      ],
      "metadata": {
        "id": "eUsXLR1rVlrA"
      }
    },
    {
      "cell_type": "code",
      "source": [
        "from sklearn.metrics import f1_score\n",
        "def calculate_f1_score(X_valid,y_valid):\n",
        "  valid_classes = model.predict(X_valid, verbose=0)\n",
        "  predictions = []\n",
        "  for i in valid_classes:\n",
        "      max = np.argmax(i)\n",
        "      predictions.append(max)\n",
        "  predictions= np.array(predictions)\n",
        "  return f1_score(y_valid, predictions, average='micro')"
      ],
      "metadata": {
        "id": "1VfCijrhUZev"
      },
      "execution_count": null,
      "outputs": []
    },
    {
      "cell_type": "code",
      "source": [
        "print('F1 Score : {}'.format(calculate_f1_score(X_valid,y_valid, average='micro')))"
      ],
      "metadata": {
        "colab": {
          "base_uri": "https://localhost:8080/"
        },
        "id": "zw715FGOwj4c",
        "outputId": "73760c8c-032d-4b7b-a3c3-a5edf9317944"
      },
      "execution_count": null,
      "outputs": [
        {
          "output_type": "stream",
          "name": "stdout",
          "text": [
            "F1 Score : 0.6643044404391283\n"
          ]
        }
      ]
    },
    {
      "cell_type": "markdown",
      "source": [
        "###Saving model in drive"
      ],
      "metadata": {
        "id": "FOrFr6b2VuNJ"
      }
    },
    {
      "cell_type": "code",
      "source": [
        "from keras.models import load_model\n",
        "filename = \"Dense_neural_networkimproved.h5\"\n",
        "model.save(\"/content/gdrive/MyDrive/Amalgam/\"+ filename)"
      ],
      "metadata": {
        "id": "ktkwV5bQim19"
      },
      "execution_count": null,
      "outputs": []
    },
    {
      "cell_type": "markdown",
      "source": [
        "###Loading model from Drive"
      ],
      "metadata": {
        "id": "4x02hegoVy42"
      }
    },
    {
      "cell_type": "code",
      "source": [
        "new_model = load_model(\"/content/gdrive/MyDrive/Amalgam/\" + filename)"
      ],
      "metadata": {
        "id": "8gx1BfgLi-pN"
      },
      "execution_count": null,
      "outputs": []
    },
    {
      "cell_type": "markdown",
      "source": [
        "###Making predictions in test dataset"
      ],
      "metadata": {
        "id": "DSe3QY5WV3C5"
      }
    },
    {
      "cell_type": "code",
      "source": [
        "#importing test dataset and checking if there are null values\n",
        "df_test = pd.read_csv('/content/gdrive/MyDrive/datarush/test.csv')\n",
        "df_test['abstract'] = df_test['abstract'].apply(clean_abstract)\n",
        "df_test.isna().sum()"
      ],
      "metadata": {
        "id": "BHbUF2Dhocqg"
      },
      "execution_count": null,
      "outputs": []
    },
    {
      "cell_type": "code",
      "source": [
        "#Vectorizing the data\n",
        "X_test = df_test['abstract']\n",
        "X_test = tfidf_vectorizer.transform(X_test).astype('float32')"
      ],
      "metadata": {
        "id": "AyPPHwipoVJf"
      },
      "execution_count": null,
      "outputs": []
    },
    {
      "cell_type": "code",
      "source": [
        "#make prediction and store f1 score\n",
        "test_classes = model.predict(X_test, verbose=0)\n",
        "test_predictions = []\n",
        "for i in test_classes:\n",
        "    maxx = np.argmax(i)\n",
        "    test_predictions.append(maxx)\n",
        "test_predictions= np.array(test_predictions)\n",
        "test_predictions"
      ],
      "metadata": {
        "id": "6eE-xylpoJZR"
      },
      "execution_count": null,
      "outputs": []
    },
    {
      "cell_type": "markdown",
      "source": [
        "###Mapping predicted labels with category number"
      ],
      "metadata": {
        "id": "0omc5TmLXl3B"
      }
    },
    {
      "cell_type": "code",
      "source": [
        "#importing label.csv file\n",
        "df_label = pd.read_csv('/content/gdrive/MyDrive/datarush/labels.csv')"
      ],
      "metadata": {
        "id": "q9TZurhLokGB"
      },
      "execution_count": null,
      "outputs": []
    },
    {
      "cell_type": "code",
      "source": [
        "predicted_classes = []\n",
        "for i in test_predictions:\n",
        "    predicted_classes.append(label_encoder.classes_[i])"
      ],
      "metadata": {
        "id": "5zj94TpG30ob"
      },
      "execution_count": null,
      "outputs": []
    },
    {
      "cell_type": "markdown",
      "source": [
        "###Storing the solution file in drive"
      ],
      "metadata": {
        "id": "rfS3jnlJYZ1d"
      }
    },
    {
      "cell_type": "code",
      "source": [
        "solution_df = pd.DataFrame()\n",
        "solution_df['id'] = df_test['id']\n",
        "solution_df['category_num'] = pd.Series(test_predictions)"
      ],
      "metadata": {
        "id": "FJxTA98a7fT2"
      },
      "execution_count": null,
      "outputs": []
    },
    {
      "cell_type": "code",
      "source": [
        "solution_df.reset_index(drop=True, inplace=True)\n",
        "solution_df.to_csv('solution.csv', index=False)"
      ],
      "metadata": {
        "id": "mIM5U-Vq9pYM"
      },
      "execution_count": null,
      "outputs": []
    },
    {
      "cell_type": "code",
      "source": [
        "!cp solutionimp.csv \"/content/gdrive/MyDrive/Amalgam/\"\n"
      ],
      "metadata": {
        "id": "HOx3qT-_4tdw"
      },
      "execution_count": null,
      "outputs": []
    }
  ]
}